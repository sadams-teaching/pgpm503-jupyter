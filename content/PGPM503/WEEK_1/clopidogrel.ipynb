{
 "cells": [
  {
   "cell_type": "markdown",
   "id": "a89b274b",
   "metadata": {},
   "source": [
    "# Meet Your Data: Asking Questions with Python (and ChatGPT)\n",
    "\n",
    "Welcome! In this notebook you'll explore a real (simulated) pharmacogenomic dataset.\n",
    "\n",
    "## Step 1: Read the Dataset Documentation\n",
    "\n",
    "Read the file called `readme.txt` in the same folder. You can also click on the TSV file to view the data.\n",
    "\n",
    "---\n",
    "\n",
    "## Step 2: Ask ChatGPT to Help You\n",
    "\n",
    "Ask ChatGPT:  \n",
    "**“How can I use pandas to load and explore a TSV file called `clopidogrel`, and make a plot of `Response_Measure` grouped by `Phenotype`?”**\n",
    "\n",
    "Paste your prompt and ChatGPT’s response below:"
   ]
  },
  {
   "cell_type": "code",
   "execution_count": null,
   "id": "54f6f148",
   "metadata": {},
   "outputs": [],
   "source": []
  },
  {
   "cell_type": "markdown",
   "id": "6f44b52b",
   "metadata": {},
   "source": [
    "## Step 3: Did the Code Work?\n",
    "\n",
    "If not, try to debug it, or ask ChatGPT again. You can copy and paste error messages, too!\n",
    "\n",
    "---\n",
    "\n",
    "## Step 4: Explore on Your Own\n",
    "\n",
    "Try these:\n",
    "\n",
    "- Can you filter the dataset to just `Drug == \"Clopidogrel\"`?\n",
    "- Can you make a histogram of `Response_Measure`?\n",
    "- Can you count how many patients are in each `Phenotype` group?\n",
    "\n",
    "If you need help, ask ChatGPT in your own words (or send a message to Dr. Adams).\n",
    "\n",
    "---\n"
   ]
  },
  {
   "cell_type": "code",
   "execution_count": null,
   "id": "5f660f9c",
   "metadata": {},
   "outputs": [],
   "source": []
  },
  {
   "cell_type": "markdown",
   "id": "f75992c6",
   "metadata": {},
   "source": [
    "## Step 5: Reflect\n",
    "\n",
    "- What did you learn about the data?\n",
    "- What did ChatGPT do well?\n",
    "- What would you ask differently next time?\n",
    "\n",
    "Write 2-3 sentences here. You can double-click the cell to allow editing. \n",
    "\n",
    "When you are done, save your notebook (the file will end in .ipynb), download it, and submit it to Canvas. "
   ]
  },
  {
   "cell_type": "markdown",
   "id": "b67c4e0d",
   "metadata": {},
   "source": []
  }
 ],
 "metadata": {
  "kernelspec": {
   "display_name": "scratch",
   "language": "python",
   "name": "python3"
  },
  "language_info": {
   "codemirror_mode": {
    "name": "ipython",
    "version": 3
   },
   "file_extension": ".py",
   "mimetype": "text/x-python",
   "name": "python",
   "nbconvert_exporter": "python",
   "pygments_lexer": "ipython3",
   "version": "3.13.3"
  }
 },
 "nbformat": 4,
 "nbformat_minor": 5
}
