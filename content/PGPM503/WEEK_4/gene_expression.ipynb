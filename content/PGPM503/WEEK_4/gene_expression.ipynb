{
 "cells": [
  {
   "cell_type": "markdown",
   "id": "b18a742a",
   "metadata": {},
   "source": [
    "# Gene Expression Data Analysis\n",
    "\n",
    "## Learning Objectives\n",
    "\n",
    "- Use pandas to read and process gene expression data. \n",
    "- Generate fold change values and p values for gene expression data.\n",
    "- Create a volcano plot to visualize gene expression changes.\n",
    "- Identify a list of the top differentially expressed genes.\n",
    "\n",
    "## Data Source\n",
    "\n",
    "You are working with a real gene expression dataset from a study of e-cigarrette vaping. \n",
    "This data is sampled from the [Gene Expression Omnibus](https://www.ncbi.nlm.nih.gov/geo/) dataset: https://www.ncbi.nlm.nih.gov/geo/query/acc.cgi?acc=GSE176492. \n",
    "\n",
    "The data is stored in a TSV file that you should upload to your Jupyter Notebook environment.\n",
    "This file is called 'ecig_vs_control.tsv'.\n",
    "\n",
    "I have preprocessed it from the data in GEO so that the first column is the gene name, and the subsequent columns are the expression values for each sample. \n",
    "\n",
    "Each sample is labeled with `_evaper` for e-cigarette vaping samples and `_control` for control samples.\n",
    "\n",
    "## Getting Started\n",
    "\n",
    "You will work with pandas, scipy, numpy, and matplotlib for this analysis.\n",
    "You may use chatGPT to help you with any of the code you need to write.\n",
    "\n",
    "I will also provide hints throughout the notebook to help you write effective queries and accomplish the tasks. \n"
   ]
  },
  {
   "cell_type": "markdown",
   "id": "e4091888",
   "metadata": {},
   "source": [
    "# Task 1: Load the Data\n",
    "\n",
    "You need to load the gene expression data from the TSV file into a pandas DataFrame.\n",
    "\n",
    "Do this with:\n",
    "\n",
    "```python\n",
    "import pandas as pd\n",
    "\n",
    "# note the tab separator\n",
    "df = pd.read_csv(\"ecig_vs_control.tsv\", sep=\"\\t\")\n",
    "```\n",
    "\n",
    "Feel free to explore the data frame using `df.head()` and `df.info()` to understand its structure."
   ]
  },
  {
   "cell_type": "code",
   "execution_count": null,
   "id": "54a50ef7",
   "metadata": {},
   "outputs": [],
   "source": []
  },
  {
   "cell_type": "markdown",
   "id": "4e77073c",
   "metadata": {},
   "source": [
    "# Task 2: Calculate Fold Change and P-values\n",
    "\n",
    "This is a bit more complex. You want to make a new table that has, for each gene: \n",
    "- The fold change between the e-cigarette vaping samples and the control samples.\n",
    "- The p-value for the difference in expression between the two groups.\n",
    "- The log2 fold change for easier visualization.\n",
    "\n",
    "In this case, I suggest you work with ChatGPT with a query like: \n",
    "\n",
    "\"I have a pandas dataframe that has gene expression data. \n",
    "The columns are GENE, and then the expression levels for each sample in the two groups.\n",
    "Each sample has a unique identifier followed by _control or _evaper.\n",
    "Show me code to make a new dataframe with mean expression levels for each gene in both groups.\n",
    "Please use scipy for the t-test and numpy for the log2 fold change calculation.\n",
    "When running the t-test, make sure that you coerce the data to float type to avoid errors and use the values attribute to get the actual data from the DataFrame.\""
   ]
  },
  {
   "cell_type": "code",
   "execution_count": null,
   "id": "5a2a54c8",
   "metadata": {},
   "outputs": [],
   "source": []
  },
  {
   "cell_type": "markdown",
   "id": "11887ea7",
   "metadata": {},
   "source": [
    "# Task 3: Visualize with a Volcano Plot\n",
    "\n",
    "To visualize the results, you can create a volcano plot. This plot will show the log2 fold change on the x-axis and the -log10 p-value on the y-axis.\n",
    "\n",
    "To focus on the most significant genes, you should remove any genes with a p-value greater than 0.05. The actual significance threshold would need to be adjusted based on your specific analysis, but for this exercise, we will use 0.001. \n",
    "\n",
    "I will show you how to create a volcano plot using matplotlib, but you can also ask ChatGPT, or tinker with the code to customize it further.\n",
    "\n",
    "```python\n",
    "import matplotlib.pyplot as plt\n",
    "\n",
    "# Create a volcano plot\n",
    "plt.figure(figsize=(10, 6))\n",
    "# make out plot - adjust the variable names as needed\n",
    "plt.scatter(df_means['log2_fc'], -np.log10(df_means['p_value']), alpha=0.5)\n",
    "plt.title('Volcano Plot of Gene Expression Changes')\n",
    "plt.xlabel('Log2 Fold Change')\n",
    "plt.ylabel('-Log10 P-value')\n",
    "# add a line for the p-value threshold\n",
    "plt.axhline(y=-np.log10(0.001), color='red', linestyle='--', label='p=0.001 threshold')\n",
    "plt.axvline(x=0, color='black', linestyle='--')\n",
    "plt.legend()\n",
    "# there will be outliers in the FC calculation, so limit our window for a fold-change of 5\n",
    "plt.xlim(-5, 5)\n",
    "plt.show()\n",
    "```"
   ]
  },
  {
   "cell_type": "code",
   "execution_count": null,
   "id": "fffb7eb2",
   "metadata": {},
   "outputs": [],
   "source": []
  },
  {
   "cell_type": "markdown",
   "id": "1e72837a",
   "metadata": {},
   "source": [
    "# Task 4: Find the top differentially expressed genes\n",
    "\n",
    "Finally - we are going to identify the top differentially expressed genes based on the p-value and log2 fold change.\n",
    "\n",
    "You can use the following code to filter the DataFrame and sort it by p-value and log2 fold change:\n",
    "\n",
    "```python\n",
    "# Filter for significant genes\n",
    "significant_genes = df_means[(df_means['p_value'] < 0.001) & (df_means['log2_fc'].abs() > 1)]\n",
    "# Sort by p-value and log2 fold change\n",
    "top_genes = significant_genes.sort_values(by=['p_value', 'log2_fc'], ascending=[True, False])\n",
    "# Display the top genes\n",
    "top_genes\n",
    "```"
   ]
  },
  {
   "cell_type": "code",
   "execution_count": null,
   "id": "8e907166",
   "metadata": {},
   "outputs": [],
   "source": []
  },
  {
   "cell_type": "markdown",
   "id": "a2d88537",
   "metadata": {},
   "source": [
    "# Reflection\n",
    "\n",
    "In this introduction to gene expression data - you analyzed a real dataset, calculated fold changes and p-values, visualized the results with a volcano plot, and identified the top differentially expressed genes.\n",
    "\n",
    "## Please answer the following questions: \n",
    "\n",
    "1. Why did we use log2 fold change instead of raw fold change?\n",
    "\n",
    "2. Pick one of the top differentially expressed genes and do a brief web search to find out what it does in the body. Do you think this is plausible in the context of e-cigarette vaping?\n",
    "\n"
   ]
  },
  {
   "cell_type": "markdown",
   "id": "3fece4cb",
   "metadata": {},
   "source": []
  }
 ],
 "metadata": {
  "kernelspec": {
   "display_name": "scratch",
   "language": "python",
   "name": "python3"
  },
  "language_info": {
   "codemirror_mode": {
    "name": "ipython",
    "version": 3
   },
   "file_extension": ".py",
   "mimetype": "text/x-python",
   "name": "python",
   "nbconvert_exporter": "python",
   "pygments_lexer": "ipython3",
   "version": "3.13.3"
  }
 },
 "nbformat": 4,
 "nbformat_minor": 5
}
