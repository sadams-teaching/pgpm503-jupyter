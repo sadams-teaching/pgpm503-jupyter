{
 "cells": [
  {
   "cell_type": "markdown",
   "id": "ea730af0",
   "metadata": {},
   "source": [
    "# Jupyter Notebook Title: Exploring Genetic Variation with pysam and ChatGPT\n",
    "\n",
    "## Learning Objectives:\n",
    "\n",
    "By the end of this activity, you will be able to:\n",
    "\n",
    "- Use pysam to read and query VCF files.\n",
    "\n",
    "- Extract metadata about samples and genotypes.\n",
    "\n",
    "- Compute summary statistics like minor allele frequency (MAF) and Hardy-Weinberg equilibrium (HWE).\n",
    "\n",
    "- Visualize genetic data using histograms.\n",
    "\n",
    "- Use ChatGPT to guide problem-solving and code exploration.\n",
    "\n",
    "## Getting Started\n",
    "\n",
    "### VCF File Upload\n",
    "\n",
    "In the Canvas activity page - I provided a VCF file. You'll need to upload that to your browser Jupyter environment. Above the file browser, you'll see an 'up' arrow that you can press to upload the file ending in `.vcf.gz` and the file ending in `.vcf.gz.tbi`\n",
    "\n",
    "### Python Setup\n",
    "\n",
    "In this activity - I'm going to direct you on what code to run to use the following packages that have been pre-installed into your environment. \n",
    "\n",
    "Those include: \n",
    "\n",
    "`pysam`, which is a python library intended for analyzing common/standard sequencing and variant file formats. We will use it a lot though this course. If you want to dig in to the technical documentation, that is here: https://pysam.readthedocs.io/en/latest/api.html\n",
    "\n",
    "`numpy`, a library for working with numbers, arrays, etc... One of the most important scientific computing libraries in Python (https://numpy.org/)\n",
    "\n",
    "`scipy`, lots of scientific algorithms. We are going to use it for some statistical methods (https://scipy.org/)\n"
   ]
  },
  {
   "cell_type": "code",
   "execution_count": null,
   "id": "f206d015",
   "metadata": {},
   "outputs": [],
   "source": [
    "# import our libraries\n",
    "\n",
    "from pysam import VariantFile # pysam is a library for reading and writing SAM/BAM/CRAM files, and VariantFile is used for VCF/BCF files\n",
    "import numpy as np # common alias for numpy is np\n",
    "from scipy.stats import chisquare # in this case, we only want the chisquare function from scipy.stats module\n",
    "from collections import Counter # this is part of the python standard library, but we need to import it"
   ]
  },
  {
   "cell_type": "markdown",
   "id": "66f29e9f",
   "metadata": {},
   "source": [
    "## Opening a VCF File\n",
    "\n",
    "In the directory - you should see your uploaded files `kgenomes.cyp2c19.vcf.gz` and a similar one called `kgenomes.cyp2c19.vcf.gz.tbi`\n",
    "\n",
    "The `.vcf.gz` is a *compressed* VCF file, and the `.tbi` file is the index for that file. It is indexed so the computer can open a specific part of the file without decompressing the whole thing. \n",
    "\n",
    "`pysam` (and many other tools) automatically recognize the index file. It just needs to be saved along with the main file. \n",
    "\n",
    "Check out the next code cell - you can run it as is to load the VCF file with pysam.VariantFile"
   ]
  },
  {
   "cell_type": "code",
   "execution_count": null,
   "id": "c5168682",
   "metadata": {},
   "outputs": [],
   "source": [
    "vcf_file = VariantFile(\"kgenomes.cyp2c19.vcf.gz\")\n",
    "\n",
    "# we can print the header with the following command: \n",
    "print(vcf_file.header)"
   ]
  },
  {
   "cell_type": "markdown",
   "id": "282e7e6d",
   "metadata": {},
   "source": [
    "## View Number of Samples in the VCF File\n",
    "\n",
    "VCF files can support anywhere from zero to millions+ samples. \n",
    "\n",
    "Let's use a basic pysam method to view the number of samples in our VCF file. \n",
    "\n",
    "Ask ChatGPT for help with this one. Something like: *How can I view the number of samples in a VCF file with pysam?*\n",
    "\n",
    "You might need to modify its output a bit. Note that it might also give you some information that is redundant with what we have already done. "
   ]
  },
  {
   "cell_type": "code",
   "execution_count": null,
   "id": "e122bc66",
   "metadata": {},
   "outputs": [],
   "source": [
    "# view number of samples here"
   ]
  },
  {
   "cell_type": "markdown",
   "id": "258c7d64",
   "metadata": {},
   "source": [
    "## Calculate Minor Allele Frequencies\n",
    "\n",
    "In the next code cells, I've defined for you a *function*.\n",
    "\n",
    "This is a common tool in python for creating modular processes. \n",
    "\n",
    "Just like a mathematical function $f(x)=x+1$, a function takes one or more arguments (i.e. $x$) and does something to them.\n",
    "\n",
    "Writing functions can be tricky. Especially when you're coupling them with VCF file parsing. The first one is for calculating the minor allele frequency from a single variant in a VCF file. \n"
   ]
  },
  {
   "cell_type": "code",
   "execution_count": null,
   "id": "99080d1d",
   "metadata": {},
   "outputs": [],
   "source": [
    "def calculate_maf(record):\n",
    "    genotypes = [call['GT'] for call in record.samples.values()]\n",
    "    alleles = [allele for gt in genotypes if gt is not None for allele in gt if allele is not None and allele >= 0]\n",
    "    counts = Counter(alleles)\n",
    "    total_alleles = sum(counts.values())\n",
    "    minor_count = sorted(counts.values())[0]\n",
    "    return minor_count / total_alleles\n",
    "\n",
    "# feel free to copy and paste this function into ChatGPT to ask how it works. "
   ]
  },
  {
   "cell_type": "markdown",
   "id": "dbea84eb",
   "metadata": {},
   "source": [
    "Recall that in a VCF file - every row is a variant. \n",
    "Let's calculate MAF for each row with our `calculate_maf` function. \n",
    "\n",
    "Run the following cell:"
   ]
  },
  {
   "cell_type": "code",
   "execution_count": null,
   "id": "42d7b313",
   "metadata": {},
   "outputs": [],
   "source": [
    "vcf_file.reset()  # Reset the iterator to the beginning of the VCF file\n",
    "\n",
    "# if you don't reset, the iterator will be at the end of the file after the first loop and it won't return any records in the second loop.\n",
    "\n",
    "mafs = [calculate_maf(record) for record in vcf_file]\n",
    "\n",
    "print(f\"Calculated MAF for {len(mafs)} variants.\")"
   ]
  },
  {
   "cell_type": "markdown",
   "id": "51dfeaad",
   "metadata": {},
   "source": [
    "To visualize the minor allele frequencies, ask ChatGPT something like *How can I make a histogram from a python list of numbers and matplotlib?*"
   ]
  },
  {
   "cell_type": "code",
   "execution_count": null,
   "id": "4897fad7",
   "metadata": {},
   "outputs": [],
   "source": []
  },
  {
   "cell_type": "markdown",
   "id": "200d43ef",
   "metadata": {},
   "source": [
    "## Calculate Hardy-Weinberg Equilibrium\n",
    "\n",
    "A key component of population genetics quality control is HWE deviation. \n",
    "\n",
    "You can use the following function to calculate it from pysam records. \n",
    "\n",
    "Use the same approach we used for calculate MAF to also get HWE P values. \n",
    "\n",
    "*See if you can figure it out without using ChatGPT, but feel free to ask it if you get stuck.*"
   ]
  },
  {
   "cell_type": "code",
   "execution_count": null,
   "id": "524263fb",
   "metadata": {},
   "outputs": [],
   "source": [
    "def hardy_weinberg(record):\n",
    "    genotypes = [call['GT'] for call in record.samples.values()]\n",
    "    gt_counts = Counter(gt for gt in genotypes if None not in gt)\n",
    "    \n",
    "    obs = [gt_counts.get((0, 0), 0), gt_counts.get((0, 1), 0) + gt_counts.get((1, 0), 0), gt_counts.get((1, 1), 0)]\n",
    "    n = sum(obs)\n",
    "    if n == 0:\n",
    "        return None, None\n",
    "    \n",
    "    p = (2 * obs[0] + obs[1]) / (2 * n)\n",
    "    q = 1 - p\n",
    "    \n",
    "    exp = [p ** 2 * n, 2 * p * q * n, q ** 2 * n]\n",
    "    \n",
    "    chi2, pval = chisquare(obs, f_exp=exp)\n",
    "    return pval"
   ]
  },
  {
   "cell_type": "markdown",
   "id": "753e44fe",
   "metadata": {},
   "source": [
    "**Answer the following**: why do we use chi-squared to test for deviation from Hardy-Weinberg equilibrium?\n",
    "\n",
    "Then - consider what you might do with the results. You have an array of p values. What defines a significant P value for HWE? How does that inform our next steps?\n",
    "\n",
    "Hint - you might want to define a strict cutoff of 0.05 and count how many items in the list of HWE results are below that value. "
   ]
  },
  {
   "cell_type": "markdown",
   "id": "04ccc175",
   "metadata": {},
   "source": [
    "# Querying a Specific Variant\n",
    "\n",
    "The data in our VCF file is taken from a public resource called the \"1000 Genomes Project\"\n",
    "\n",
    "The variants are from a region on chromsome 10 that contains *CYP2C19*\n",
    "\n",
    "-----\n",
    "\n",
    "As an example - let's look at a single variant in *CYP2C19* that is associated with the \\*2 allele.\n",
    "\n",
    "This variant is at position 94781859 on chromosome 10. \n",
    "\n",
    "Check out the following code cell to see how you can do that. \n",
    "\n",
    "You can read more information about *CYP2C19* variants and star alleles here: https://www.pharmvar.org/gene/CYP2C19"
   ]
  },
  {
   "cell_type": "code",
   "execution_count": null,
   "id": "221b3cc8",
   "metadata": {},
   "outputs": [],
   "source": [
    "vcf_file.reset()  # Reset the iterator to the beginning of the VCF file\n",
    "\n",
    "variant_records = vcf_file.fetch(\"10\", 94781859 - 1, 94781859) # we fetch based on 0-based coordinates, so we subtract 1 from the position\n",
    "\n",
    "# multiple variants might overlap with the position, so we need to iterate through the \n",
    "# records in our target region and just keep the one that matches our position exactly\n",
    "\n",
    "variant_record = [record for record in variant_records if record.pos == 94781859][0]  # Get the first record from the iterator\n",
    "\n",
    "# now that we have our variant record, we can calculate the MAF and HWE p-value\n",
    "\n",
    "maf = calculate_maf(variant_record)\n",
    "print(f\"MAF for variant {variant_record.id} is {maf:.4f}\")\n",
    "pval = hardy_weinberg(variant_record)\n",
    "print(f\"HWE p-value for variant {variant_record.id} is {pval:.4e}\")"
   ]
  },
  {
   "cell_type": "markdown",
   "id": "8c851131",
   "metadata": {},
   "source": [
    "## Reflection\n",
    "\n",
    "1. What is a VCF file and how does it help us work with variant data?\n",
    "2. How do functions and pysam make it easier to work with data in VCF files?\n",
    "\n",
    "### Once you are finished - save + download this notebook and submit it through Canvas. "
   ]
  },
  {
   "cell_type": "markdown",
   "id": "5afe7d9e",
   "metadata": {},
   "source": []
  }
 ],
 "metadata": {
  "kernelspec": {
   "display_name": "scratch",
   "language": "python",
   "name": "python3"
  },
  "language_info": {
   "codemirror_mode": {
    "name": "ipython",
    "version": 3
   },
   "file_extension": ".py",
   "mimetype": "text/x-python",
   "name": "python",
   "nbconvert_exporter": "python",
   "pygments_lexer": "ipython3",
   "version": "3.13.3"
  }
 },
 "nbformat": 4,
 "nbformat_minor": 5
}
